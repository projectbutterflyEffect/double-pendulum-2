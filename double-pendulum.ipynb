{
 "cells": [
  {
   "cell_type": "markdown",
   "metadata": {
    "collapsed": true
   },
   "source": [
    "# Double Pendulum Simulation\n",
    "### by Ganden Schaffner and Ian McDougall"
   ]
  },
  {
   "cell_type": "code",
   "execution_count": 1,
   "metadata": {},
   "outputs": [],
   "source": [
    "import math\n",
    "from math import pi\n",
    "import numpy as np\n",
    "from numpy import sin, cos, pi\n",
    "import matplotlib.pyplot as plt\n",
    "from matplotlib import animation, rc\n",
    "from IPython.display import HTML\n",
    "import ipywidgets as widg\n",
    "%matplotlib inline\n",
    "\n",
    "# Maths from Matplotlib example bank (https://matplotlib.org/examples/animation/double_pendulum_animated.html)\n",
    "\n",
    "# Constants\n",
    "G =  9.81     # acceleration due to gravity (in m/s^2)\n",
    "L1 = 1.0      # length of pendulum (1 in m)\n",
    "L2 = 1.0      # length of pendulum 2 (in m)\n",
    "M1 = 1.0      # mass of pendulum 1 (in kg)\n",
    "M2 = 1.0      # mass of pendulum 2 (in kg)\n",
    "rad = pi/180  # radians in 1 deg\n",
    "\n",
    "# Set initial conditions\n",
    "th1 = 120.0  # th1 and th2 are the initial angles (degrees)\n",
    "th2 = -10.0\n",
    "w1 = 0.0     # w10 and w20 are the initial angular velocities (degrees per second)\n",
    "w2 = 0.0\n",
    "state = np.array([th1, w1, th2, w2])*rad  # initial state array\n",
    "\n",
    "def derivs(state, t):\n",
    "    dxdt = np.zeros_like(state) # initialize dervative array (values correspond to the time derivatives of initial state array)\n",
    "    th_diff_init = state[2] - state[0] # difference of angle1 and angle2\n",
    "\n",
    "    dxdt[0] = state[1] # derivative of angle1\n",
    "\n",
    "    denom1 = (M1+M2)*L1 - M2*L1*cos(th_diff_init)*cos(th_diff_init) # denominator of dxdt[2]\n",
    "    dxdt[1] = (M2*L1*state[1]*state[1]*sin(th_diff_init)*cos(th_diff_init)\n",
    "               + M2*G*sin(state[2])*cos(th_diff_init)\n",
    "               + M2*L2*state[3]*state[3]*sin(th_diff_init)\n",
    "               - (M1+M2)*G*sin(state[0]))/denom1 # time derivative of angular velocity 1\n",
    "\n",
    "    dxdt[2] = state[3] # time derivative of angle2\n",
    "\n",
    "    denom2 = (L2/L1)*denom1 # denominator of dxdt[3]\n",
    "    dxdt[3] = (-M2*L2*state[3]*state[3]*sin(th_diff_init)*cos(th_diff_init)\n",
    "               + (M1+M2)*G*sin(state[0])*cos(th_diff_init)\n",
    "               - (M1+M2)*L1*state[1]*state[1]*sin(th_diff_init)\n",
    "               - (M1+M2)*G*sin(state[2]))/denom2   # time derivative of angular velocity 2\n",
    "    \n",
    "    return dxdt # return the array of time derivatives\n"
   ]
  }
 ],
 "metadata": {
  "kernelspec": {
   "display_name": "Python 3.6",
   "language": "python",
   "name": "python36"
  },
  "language_info": {
   "codemirror_mode": {
    "name": "ipython",
    "version": 3
   },
   "file_extension": ".py",
   "mimetype": "text/x-python",
   "name": "python",
   "nbconvert_exporter": "python",
   "pygments_lexer": "ipython3",
   "version": "3.6.0"
  }
 },
 "nbformat": 4,
 "nbformat_minor": 2
}
